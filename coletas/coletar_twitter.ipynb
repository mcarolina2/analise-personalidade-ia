{
 "cells": [
  {
   "cell_type": "code",
   "execution_count": null,
   "id": "edd9e7ce",
   "metadata": {},
   "outputs": [],
   "source": [
    "import tweepy\n",
    "import pandas as pd\n",
    "import os\n",
    "import re"
   ]
  },
  {
   "cell_type": "code",
   "execution_count": 3,
   "id": "e5e649bd",
   "metadata": {},
   "outputs": [
    {
     "name": "stdout",
     "output_type": "stream",
     "text": [
      "Saved 50 tweets in CSV\n"
     ]
    }
   ],
   "source": [
    "api_key = \"GJHpZp7201RSGoRqmTziDdCRQ\"\n",
    "api_secret = \"B7qBAsfGDGBc7pvgglnNB1tsfizdsYtO9Afa9GbqCI6UjyJ7YD\"\n",
    "bearer_token = \"AAAAAAAAAAAAAAAAAAAAAPHv3gEAAAAA4YMSdEOGUgqi6DwkT0TneIB1T64%3DueAehLNfkDRp9uF1gbPJ6QRFtKgDWadXCHlyw30krnnHm69aW9\"\n",
    "\n",
    "client = tweepy.Client(bearer_token=bearer_token)\n",
    "\n",
    "# palavras chaves para busca\n",
    "query = \"(chatgpt OR gpt OR llm OR artificial intelligence OR ai) (personality OR human-like OR sentient OR consciousness OR emotions OR trust OR fear OR friendly OR dangerous) -is:retweet lang:en\"\n",
    "\n",
    "# buscando os tweets \n",
    "tweets = client.search_recent_tweets(\n",
    "    query=query,\n",
    "    tweet_fields=[\"created_at\", \"public_metrics\", \"lang\"],\n",
    "    max_results=50\n",
    ")\n",
    "\n",
    "# Regex ajustado para IA + personalidade\n",
    "regex_ia = re.compile(\n",
    "    r\"\\b(ai|artificial intelligence|chatgpt|gpt|machine learning|llm|language model|personality|sentient|consciousness|emotions|trust|fear|friendly|dangerous)\\b\",\n",
    "    re.IGNORECASE\n",
    ")\n",
    "\n",
    "tweets_lista = []\n",
    "\n",
    "if tweets.data:  \n",
    "    for tweet in tweets.data:\n",
    "        if regex_ia.search(tweet.text):\n",
    "            tweets_lista.append({\n",
    "                \"tweet\": tweet.text,\n",
    "                \"date\": tweet.created_at,\n",
    "                \"likes\": tweet.public_metrics[\"like_count\"],\n",
    "                \"retweets\": tweet.public_metrics[\"retweet_count\"]\n",
    "            })\n",
    "\n",
    "df = pd.DataFrame(tweets_lista)\n",
    "df.to_csv(\"../dados/tweets_ia_personality.csv\", index=False, encoding=\"utf-8\")\n",
    "print(f\"Saved {len(df)} tweets in CSV\")\n"
   ]
  }
 ],
 "metadata": {
  "kernelspec": {
   "display_name": "Python 3",
   "language": "python",
   "name": "python3"
  },
  "language_info": {
   "codemirror_mode": {
    "name": "ipython",
    "version": 3
   },
   "file_extension": ".py",
   "mimetype": "text/x-python",
   "name": "python",
   "nbconvert_exporter": "python",
   "pygments_lexer": "ipython3",
   "version": "3.12.1"
  }
 },
 "nbformat": 4,
 "nbformat_minor": 5
}
